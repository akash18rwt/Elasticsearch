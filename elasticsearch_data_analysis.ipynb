{
 "cells": [
  {
   "cell_type": "markdown",
   "metadata": {},
   "source": [
    "* Pandas user can explore and visualize data in Elasticsearch using familar APIs\n",
    "* Huge datasetcan be explored without data in-memory\n",
    "* Uploading datasets\n",
    "\n",
    "## DataFrame Implementation\n",
    "\n",
    "* DataFrame maintains query DSL and post-processing task graph internally\n",
    "* Implements subset of Pandas API and maps to ES query filters, aggregations, Painless scripts\n",
    "* All data and operations occur within Elasticsearch, results are returnd into Pandas data structures\n",
    "\n",
    "## Mapping Pandas Concepts to Elasticsearch\n",
    "\n",
    "* DataFrame -> Index\n",
    "* Row       -> Document\n",
    "* Column    -> Field\n",
    "* df.types  -> Mapping Types\n",
    "* df.index  -> _id/@timestamp\n",
    "\n",
    "DataFrames id backed by Elasticsearch:\n",
    "* DtaFrame.es_query()\n",
    "* Full-text queries\n",
    "* Geo-spatial filtering\n",
    "* Analyzers\n",
    "* Relevance Scoring\n",
    "\n",
    "### Pandas DataFrame  --> Elasticsearch\n",
    "* pandas_to_eland()\n",
    "* Creates an index mapping from dtypes\n",
    "* Overrides for specialized types(Geo, IP)\n",
    "\n",
    "### Elasticsearch  --> Pandas DataFrame\n",
    "* eland_to_pandas()\n",
    "* df.to_pandas()\n",
    "* Pulls all data into memory(!)"
   ]
  },
  {
   "cell_type": "code",
   "execution_count": 1,
   "metadata": {},
   "outputs": [],
   "source": [
    "import eland as ed\n",
    "from eland.conftest import *\n",
    "from elasticsearch import Elasticsearch\n",
    "from elasticsearch_dsl import Search, Q\n",
    "\n",
    "# Import pandas and numpy for data wrangling\n",
    "import pandas as pd\n",
    "import numpy as np\n"
   ]
  },
  {
   "cell_type": "code",
   "execution_count": 2,
   "metadata": {},
   "outputs": [],
   "source": [
    "def json(x):\n",
    "    import json\n",
    "    print(json.dumps(x, indent=2, sort_keys=True))"
   ]
  },
  {
   "cell_type": "code",
   "execution_count": 3,
   "metadata": {},
   "outputs": [
    {
     "name": "stdout",
     "output_type": "stream",
     "text": [
      "{\n",
      "  \"cluster_name\": \"elasticsearch\",\n",
      "  \"cluster_uuid\": \"KDoR-ROET_-UqRewWSB6WA\",\n",
      "  \"name\": \"BLR-DLZXKC2\",\n",
      "  \"tagline\": \"You Know, for Search\",\n",
      "  \"version\": {\n",
      "    \"build_date\": \"2020-06-14T19:35:50.234439Z\",\n",
      "    \"build_flavor\": \"default\",\n",
      "    \"build_hash\": \"757314695644ea9a1dc2fecd26d1a43856725e65\",\n",
      "    \"build_snapshot\": false,\n",
      "    \"build_type\": \"zip\",\n",
      "    \"lucene_version\": \"8.5.1\",\n",
      "    \"minimum_index_compatibility_version\": \"6.0.0-beta1\",\n",
      "    \"minimum_wire_compatibility_version\": \"6.8.0\",\n",
      "    \"number\": \"7.8.0\"\n",
      "  }\n",
      "}\n"
     ]
    }
   ],
   "source": [
    "es = Elasticsearch()\n",
    "\n",
    "json(es.info())"
   ]
  },
  {
   "cell_type": "code",
   "execution_count": 4,
   "metadata": {},
   "outputs": [
    {
     "name": "stdout",
     "output_type": "stream",
     "text": [
      "<class 'pandas.core.frame.DataFrame'>\n",
      "Int64Index: 12207 entries, 2 to 24996\n",
      "Data columns (total 26 columns):\n",
      " #   Column                 Non-Null Count  Dtype  \n",
      "---  ------                 --------------  -----  \n",
      " 0   CAMIS                  12207 non-null  int64  \n",
      " 1   DBA                    12207 non-null  object \n",
      " 2   BORO                   12207 non-null  object \n",
      " 3   BUILDING               12207 non-null  object \n",
      " 4   STREET                 12207 non-null  object \n",
      " 5   ZIPCODE                12207 non-null  float64\n",
      " 6   PHONE                  12207 non-null  object \n",
      " 7   CUISINE DESCRIPTION    12207 non-null  object \n",
      " 8   INSPECTION DATE        12207 non-null  object \n",
      " 9   ACTION                 12207 non-null  object \n",
      " 10  VIOLATION CODE         12207 non-null  object \n",
      " 11  VIOLATION DESCRIPTION  12207 non-null  object \n",
      " 12  CRITICAL FLAG          12207 non-null  object \n",
      " 13  SCORE                  12207 non-null  float64\n",
      " 14  GRADE                  12207 non-null  object \n",
      " 15  GRADE DATE             12207 non-null  object \n",
      " 16  RECORD DATE            12207 non-null  object \n",
      " 17  INSPECTION TYPE        12207 non-null  object \n",
      " 18  Latitude               12207 non-null  float64\n",
      " 19  Longitude              12207 non-null  float64\n",
      " 20  Community Board        12207 non-null  float64\n",
      " 21  Council District       12207 non-null  float64\n",
      " 22  Census Tract           12207 non-null  float64\n",
      " 23  BIN                    12207 non-null  float64\n",
      " 24  BBL                    12207 non-null  float64\n",
      " 25  NTA                    12207 non-null  object \n",
      "dtypes: float64(9), int64(1), object(16)\n",
      "memory usage: 2.5+ MB\n"
     ]
    }
   ],
   "source": [
    "pd_df = pd.read_csv('nyc-restraunt.csv').dropna()\n",
    "\n",
    "pd_df.info()"
   ]
  },
  {
   "cell_type": "code",
   "execution_count": 5,
   "metadata": {},
   "outputs": [
    {
     "name": "stdout",
     "output_type": "stream",
     "text": [
      "<class 'pandas.core.frame.DataFrame'>\n",
      "Int64Index: 12207 entries, 2 to 24996\n",
      "Data columns (total 25 columns):\n",
      " #   Column                 Non-Null Count  Dtype  \n",
      "---  ------                 --------------  -----  \n",
      " 0   camis                  12207 non-null  int64  \n",
      " 1   dba                    12207 non-null  object \n",
      " 2   boro                   12207 non-null  object \n",
      " 3   building               12207 non-null  object \n",
      " 4   street                 12207 non-null  object \n",
      " 5   zipcode                12207 non-null  float64\n",
      " 6   phone                  12207 non-null  object \n",
      " 7   cuisine_description    12207 non-null  object \n",
      " 8   inspection_date        12207 non-null  object \n",
      " 9   action                 12207 non-null  object \n",
      " 10  violation_code         12207 non-null  object \n",
      " 11  violation_description  12207 non-null  object \n",
      " 12  critical_flag          12207 non-null  object \n",
      " 13  score                  12207 non-null  float64\n",
      " 14  grade                  12207 non-null  object \n",
      " 15  grade_date             12207 non-null  object \n",
      " 16  record_date            12207 non-null  object \n",
      " 17  inspection_type        12207 non-null  object \n",
      " 18  community_board        12207 non-null  float64\n",
      " 19  council_district       12207 non-null  float64\n",
      " 20  census_tract           12207 non-null  float64\n",
      " 21  bin                    12207 non-null  float64\n",
      " 22  bbl                    12207 non-null  float64\n",
      " 23  nta                    12207 non-null  object \n",
      " 24  location               12207 non-null  object \n",
      "dtypes: float64(7), int64(1), object(17)\n",
      "memory usage: 2.4+ MB\n"
     ]
    }
   ],
   "source": [
    "pd_df.columns = [x.lower().replace(' ', '_') for x in pd_df.columns]\n",
    "\n",
    "pd_df['location'] = pd_df[['latitude','longitude']].apply(lambda x: \",\".join(str(item) for item in x), axis=1)\n",
    "\n",
    "pd_df.drop(['latitude','longitude'], axis=1, inplace=True)\n",
    "\n",
    "pd_df.info()"
   ]
  },
  {
   "cell_type": "code",
   "execution_count": 6,
   "metadata": {},
   "outputs": [
    {
     "name": "stdout",
     "output_type": "stream",
     "text": [
      "<class 'eland.dataframe.DataFrame'>\n",
      "Index: 12207 entries, 2 to 24996\n",
      "Data columns (total 25 columns):\n",
      " #   Column                 Non-Null Count  Dtype  \n",
      "---  ------                 --------------  -----  \n",
      " 0   action                 12207 non-null  object \n",
      " 1   bbl                    12207 non-null  float64\n",
      " 2   bin                    12207 non-null  float64\n",
      " 3   boro                   12207 non-null  object \n",
      " 4   building               12207 non-null  object \n",
      " 5   camis                  12207 non-null  int64  \n",
      " 6   census_tract           12207 non-null  float64\n",
      " 7   community_board        12207 non-null  float64\n",
      " 8   council_district       12207 non-null  float64\n",
      " 9   critical_flag          12207 non-null  object \n",
      " 10  cuisine_description    12207 non-null  object \n",
      " 11  dba                    12207 non-null  object \n",
      " 12  grade                  12207 non-null  object \n",
      " 13  grade_date             12207 non-null  object \n",
      " 14  inspection_date        12207 non-null  object \n",
      " 15  inspection_type        12207 non-null  object \n",
      " 16  location               12207 non-null  object \n",
      " 17  nta                    12207 non-null  object \n",
      " 18  phone                  12207 non-null  object \n",
      " 19  record_date            12207 non-null  object \n",
      " 20  score                  12207 non-null  float64\n",
      " 21  street                 12207 non-null  object \n",
      " 22  violation_code         12207 non-null  object \n",
      " 23  violation_description  12207 non-null  object \n",
      " 24  zipcode                12207 non-null  int64  \n",
      "dtypes: float64(6), int64(2), object(17)\n",
      "memory usage: 80.0 bytes\n"
     ]
    }
   ],
   "source": [
    "df = ed.pandas_to_eland(pd_df=pd_df,\n",
    "                        es_client=es,\n",
    "                        \n",
    "                        #where the data will live in elasticsearch\n",
    "                        es_dest_index='nyc-restaurants',\n",
    "                        #typeoverrides for certain columns\n",
    "                        es_type_overrides={'location':'geo_point',\n",
    "                                         'dba':'text',\n",
    "                                         'zipcode':'short'},\n",
    "                        #if the index already exist what should we do\n",
    "                        # use 'append' if you want to add to the existing data\n",
    "                        es_if_exists='replace',\n",
    "                        #wait for data to be indexed before returning\n",
    "                        es_refresh=True,\n",
    "                       )\n",
    "\n",
    "df.info()"
   ]
  },
  {
   "cell_type": "markdown",
   "metadata": {},
   "source": [
    "We can also notice the memory usage went from around 2.4+ Mbs in the pandas dataframe to only 80 bytes in the Eland dataframe. This happens because we don’t need to hold the entire dataset in memory to retrieve the information we require from the index, and most of the workload remains in the Elasticsearch cluster as aggregations or specific queries.\n",
    "\n",
    "For such a small dataset, this is not that important, but as we scale to Gigabytes of data, the benefits of not holding everything in memory for simple computations and analysis are much more noticeable."
   ]
  },
  {
   "cell_type": "code",
   "execution_count": 7,
   "metadata": {},
   "outputs": [
    {
     "name": "stdout",
     "output_type": "stream",
     "text": [
      "{\n",
      "  \"nyc-restaurants\": {\n",
      "    \"mappings\": {\n",
      "      \"properties\": {\n",
      "        \"action\": {\n",
      "          \"type\": \"keyword\"\n",
      "        },\n",
      "        \"bbl\": {\n",
      "          \"type\": \"double\"\n",
      "        },\n",
      "        \"bin\": {\n",
      "          \"type\": \"double\"\n",
      "        },\n",
      "        \"boro\": {\n",
      "          \"type\": \"keyword\"\n",
      "        },\n",
      "        \"building\": {\n",
      "          \"type\": \"keyword\"\n",
      "        },\n",
      "        \"camis\": {\n",
      "          \"type\": \"long\"\n",
      "        },\n",
      "        \"census_tract\": {\n",
      "          \"type\": \"double\"\n",
      "        },\n",
      "        \"community_board\": {\n",
      "          \"type\": \"double\"\n",
      "        },\n",
      "        \"council_district\": {\n",
      "          \"type\": \"double\"\n",
      "        },\n",
      "        \"critical_flag\": {\n",
      "          \"type\": \"keyword\"\n",
      "        },\n",
      "        \"cuisine_description\": {\n",
      "          \"type\": \"keyword\"\n",
      "        },\n",
      "        \"dba\": {\n",
      "          \"type\": \"text\"\n",
      "        },\n",
      "        \"grade\": {\n",
      "          \"type\": \"keyword\"\n",
      "        },\n",
      "        \"grade_date\": {\n",
      "          \"type\": \"keyword\"\n",
      "        },\n",
      "        \"inspection_date\": {\n",
      "          \"type\": \"keyword\"\n",
      "        },\n",
      "        \"inspection_type\": {\n",
      "          \"type\": \"keyword\"\n",
      "        },\n",
      "        \"location\": {\n",
      "          \"type\": \"geo_point\"\n",
      "        },\n",
      "        \"nta\": {\n",
      "          \"type\": \"keyword\"\n",
      "        },\n",
      "        \"phone\": {\n",
      "          \"type\": \"keyword\"\n",
      "        },\n",
      "        \"record_date\": {\n",
      "          \"type\": \"keyword\"\n",
      "        },\n",
      "        \"score\": {\n",
      "          \"type\": \"double\"\n",
      "        },\n",
      "        \"street\": {\n",
      "          \"type\": \"keyword\"\n",
      "        },\n",
      "        \"violation_code\": {\n",
      "          \"type\": \"keyword\"\n",
      "        },\n",
      "        \"violation_description\": {\n",
      "          \"type\": \"keyword\"\n",
      "        },\n",
      "        \"zipcode\": {\n",
      "          \"type\": \"short\"\n",
      "        }\n",
      "      }\n",
      "    }\n",
      "  }\n",
      "}\n"
     ]
    }
   ],
   "source": [
    "json(es.indices.get_mapping(index='nyc-restaurants'))"
   ]
  },
  {
   "cell_type": "code",
   "execution_count": 8,
   "metadata": {},
   "outputs": [
    {
     "data": {
      "text/plain": [
       "(12207, 25)"
      ]
     },
     "execution_count": 8,
     "metadata": {},
     "output_type": "execute_result"
    }
   ],
   "source": [
    "df.shape"
   ]
  },
  {
   "cell_type": "code",
   "execution_count": 9,
   "metadata": {},
   "outputs": [
    {
     "data": {
      "text/html": [
       "<div>\n",
       "<style scoped>\n",
       "    .dataframe tbody tr th:only-of-type {\n",
       "        vertical-align: middle;\n",
       "    }\n",
       "\n",
       "    .dataframe tbody tr th {\n",
       "        vertical-align: top;\n",
       "    }\n",
       "\n",
       "    .dataframe thead th {\n",
       "        text-align: right;\n",
       "    }\n",
       "</style>\n",
       "<table border=\"1\" class=\"dataframe\">\n",
       "  <thead>\n",
       "    <tr style=\"text-align: right;\">\n",
       "      <th></th>\n",
       "      <th>action</th>\n",
       "      <th>bbl</th>\n",
       "      <th>...</th>\n",
       "      <th>violation_description</th>\n",
       "      <th>zipcode</th>\n",
       "    </tr>\n",
       "  </thead>\n",
       "  <tbody>\n",
       "    <tr>\n",
       "      <th>2</th>\n",
       "      <td>Violations were cited in the following area(s).</td>\n",
       "      <td>4.001380e+09</td>\n",
       "      <td>...</td>\n",
       "      <td>Live roaches present in facility's food and/or...</td>\n",
       "      <td>11377.0</td>\n",
       "    </tr>\n",
       "    <tr>\n",
       "      <th>3</th>\n",
       "      <td>Violations were cited in the following area(s).</td>\n",
       "      <td>1.001328e+09</td>\n",
       "      <td>...</td>\n",
       "      <td>Sanitized equipment or utensil, including in-u...</td>\n",
       "      <td>10007.0</td>\n",
       "    </tr>\n",
       "    <tr>\n",
       "      <th>5</th>\n",
       "      <td>Violations were cited in the following area(s).</td>\n",
       "      <td>2.028760e+09</td>\n",
       "      <td>...</td>\n",
       "      <td>Food not cooled by an approved method whereby ...</td>\n",
       "      <td>10453.0</td>\n",
       "    </tr>\n",
       "    <tr>\n",
       "      <th>6</th>\n",
       "      <td>Violations were cited in the following area(s).</td>\n",
       "      <td>3.009170e+09</td>\n",
       "      <td>...</td>\n",
       "      <td>Live roaches present in facility's food and/or...</td>\n",
       "      <td>11232.0</td>\n",
       "    </tr>\n",
       "    <tr>\n",
       "      <th>8</th>\n",
       "      <td>Violations were cited in the following area(s).</td>\n",
       "      <td>4.017758e+09</td>\n",
       "      <td>...</td>\n",
       "      <td>Non-food contact surface improperly constructe...</td>\n",
       "      <td>11368.0</td>\n",
       "    </tr>\n",
       "  </tbody>\n",
       "</table>\n",
       "</div>\n",
       "<p>5 rows × 25 columns</p>"
      ],
      "text/plain": [
       "                                            action           bbl  ...  \\\n",
       "2  Violations were cited in the following area(s).  4.001380e+09  ...   \n",
       "3  Violations were cited in the following area(s).  1.001328e+09  ...   \n",
       "5  Violations were cited in the following area(s).  2.028760e+09  ...   \n",
       "6  Violations were cited in the following area(s).  3.009170e+09  ...   \n",
       "8  Violations were cited in the following area(s).  4.017758e+09  ...   \n",
       "\n",
       "                                                                                                                                                                                                                                                             violation_description  \\\n",
       "2                                                                                                                                                                                                                   Live roaches present in facility's food and/or non-food areas.   \n",
       "3                                                                                                                                                                             Sanitized equipment or utensil, including in-use food dispensing utensil, improperly used or stored.   \n",
       "5                                                                            Food not cooled by an approved method whereby the internal product temperature is reduced from 140Âº F to 70Âº F or less within 2 hours, and from 70Âº F to 41Âº F or less within 4 additional hours.   \n",
       "6                                                                                                                                                                                                                   Live roaches present in facility's food and/or non-food areas.   \n",
       "8  Non-food contact surface improperly constructed. Unacceptable material used. Non-food contact surface or equipment improperly maintained and/or not properly sealed, raised, spaced or movable to allow accessibility for cleaning on all sides, above and underneath the unit.   \n",
       "\n",
       "   zipcode  \n",
       "2  11377.0  \n",
       "3  10007.0  \n",
       "5  10453.0  \n",
       "6  11232.0  \n",
       "8  11368.0  \n",
       "\n",
       "[5 rows x 25 columns]"
      ]
     },
     "execution_count": 9,
     "metadata": {},
     "output_type": "execute_result"
    }
   ],
   "source": [
    "df.head()"
   ]
  },
  {
   "cell_type": "code",
   "execution_count": 10,
   "metadata": {},
   "outputs": [
    {
     "data": {
      "text/plain": [
       "Index(['action', 'bbl', 'bin', 'boro', 'building', 'camis', 'census_tract', 'community_board',\n",
       "       'council_district', 'critical_flag', 'cuisine_description', 'dba', 'grade', 'grade_date',\n",
       "       'inspection_date', 'inspection_type', 'location', 'nta', 'phone', 'record_date', 'score',\n",
       "       'street', 'violation_code', 'violation_description', 'zipcode'],\n",
       "      dtype='object')"
      ]
     },
     "execution_count": 10,
     "metadata": {},
     "output_type": "execute_result"
    }
   ],
   "source": [
    "df.columns"
   ]
  },
  {
   "cell_type": "code",
   "execution_count": 11,
   "metadata": {},
   "outputs": [
    {
     "data": {
      "text/plain": [
       "2              EL REY DE LOS TACOS\n",
       "3                       KAFFE 1668\n",
       "5                 HAINA RESTAURANT\n",
       "6             USULUTECO RESTAURANT\n",
       "8                LOS TRES LAURELES\n",
       "                   ...            \n",
       "24987      DUNKIN', BASKIN ROBBINS\n",
       "24988    PHIL'S PIZZA WEST VILLAGE\n",
       "24989              OAXACA TAQUERIA\n",
       "24991          EXISTING CONDITIONS\n",
       "24996                  COOK EATERY\n",
       "Name: dba, Length: 12207, dtype: object"
      ]
     },
     "execution_count": 11,
     "metadata": {},
     "output_type": "execute_result"
    }
   ],
   "source": [
    "df.dba"
   ]
  },
  {
   "cell_type": "code",
   "execution_count": 12,
   "metadata": {},
   "outputs": [
    {
     "data": {
      "text/plain": [
       "2        A\n",
       "3        B\n",
       "5        B\n",
       "6        A\n",
       "8        A\n",
       "        ..\n",
       "24987    A\n",
       "24988    A\n",
       "24989    A\n",
       "24991    A\n",
       "24996    C\n",
       "Name: grade, Length: 12207, dtype: object"
      ]
     },
     "execution_count": 12,
     "metadata": {},
     "output_type": "execute_result"
    }
   ],
   "source": [
    "df['grade']"
   ]
  },
  {
   "cell_type": "code",
   "execution_count": 13,
   "metadata": {},
   "outputs": [
    {
     "data": {
      "text/html": [
       "<div>\n",
       "<style scoped>\n",
       "    .dataframe tbody tr th:only-of-type {\n",
       "        vertical-align: middle;\n",
       "    }\n",
       "\n",
       "    .dataframe tbody tr th {\n",
       "        vertical-align: top;\n",
       "    }\n",
       "\n",
       "    .dataframe thead th {\n",
       "        text-align: right;\n",
       "    }\n",
       "</style>\n",
       "<table border=\"1\" class=\"dataframe\">\n",
       "  <thead>\n",
       "    <tr style=\"text-align: right;\">\n",
       "      <th></th>\n",
       "      <th>action</th>\n",
       "      <th>bbl</th>\n",
       "      <th>...</th>\n",
       "      <th>violation_description</th>\n",
       "      <th>zipcode</th>\n",
       "    </tr>\n",
       "  </thead>\n",
       "  <tbody>\n",
       "    <tr>\n",
       "      <th>2</th>\n",
       "      <td>Violations were cited in the following area(s).</td>\n",
       "      <td>4.001380e+09</td>\n",
       "      <td>...</td>\n",
       "      <td>Live roaches present in facility's food and/or...</td>\n",
       "      <td>11377.0</td>\n",
       "    </tr>\n",
       "    <tr>\n",
       "      <th>3</th>\n",
       "      <td>Violations were cited in the following area(s).</td>\n",
       "      <td>1.001328e+09</td>\n",
       "      <td>...</td>\n",
       "      <td>Sanitized equipment or utensil, including in-u...</td>\n",
       "      <td>10007.0</td>\n",
       "    </tr>\n",
       "    <tr>\n",
       "      <th>5</th>\n",
       "      <td>Violations were cited in the following area(s).</td>\n",
       "      <td>2.028760e+09</td>\n",
       "      <td>...</td>\n",
       "      <td>Food not cooled by an approved method whereby ...</td>\n",
       "      <td>10453.0</td>\n",
       "    </tr>\n",
       "    <tr>\n",
       "      <th>6</th>\n",
       "      <td>Violations were cited in the following area(s).</td>\n",
       "      <td>3.009170e+09</td>\n",
       "      <td>...</td>\n",
       "      <td>Live roaches present in facility's food and/or...</td>\n",
       "      <td>11232.0</td>\n",
       "    </tr>\n",
       "    <tr>\n",
       "      <th>8</th>\n",
       "      <td>Violations were cited in the following area(s).</td>\n",
       "      <td>4.017758e+09</td>\n",
       "      <td>...</td>\n",
       "      <td>Non-food contact surface improperly constructe...</td>\n",
       "      <td>11368.0</td>\n",
       "    </tr>\n",
       "    <tr>\n",
       "      <th>...</th>\n",
       "      <td>...</td>\n",
       "      <td>...</td>\n",
       "      <td>...</td>\n",
       "      <td>...</td>\n",
       "      <td>...</td>\n",
       "    </tr>\n",
       "    <tr>\n",
       "      <th>24980</th>\n",
       "      <td>Violations were cited in the following area(s).</td>\n",
       "      <td>2.054190e+09</td>\n",
       "      <td>...</td>\n",
       "      <td>Food contact surface not properly washed, rins...</td>\n",
       "      <td>10465.0</td>\n",
       "    </tr>\n",
       "    <tr>\n",
       "      <th>24987</th>\n",
       "      <td>Violations were cited in the following area(s).</td>\n",
       "      <td>4.096760e+09</td>\n",
       "      <td>...</td>\n",
       "      <td>Plumbing not properly installed or maintained;...</td>\n",
       "      <td>11435.0</td>\n",
       "    </tr>\n",
       "    <tr>\n",
       "      <th>24988</th>\n",
       "      <td>Violations were cited in the following area(s).</td>\n",
       "      <td>1.005280e+09</td>\n",
       "      <td>...</td>\n",
       "      <td>Hot food item not held at or above 140Âº F.</td>\n",
       "      <td>10014.0</td>\n",
       "    </tr>\n",
       "    <tr>\n",
       "      <th>24989</th>\n",
       "      <td>Violations were cited in the following area(s).</td>\n",
       "      <td>3.019740e+09</td>\n",
       "      <td>...</td>\n",
       "      <td>Plumbing not properly installed or maintained;...</td>\n",
       "      <td>11216.0</td>\n",
       "    </tr>\n",
       "    <tr>\n",
       "      <th>24991</th>\n",
       "      <td>Violations were cited in the following area(s).</td>\n",
       "      <td>1.005720e+09</td>\n",
       "      <td>...</td>\n",
       "      <td>Evidence of mice or live mice present in facil...</td>\n",
       "      <td>10011.0</td>\n",
       "    </tr>\n",
       "  </tbody>\n",
       "</table>\n",
       "</div>\n",
       "<p>11296 rows × 25 columns</p>"
      ],
      "text/plain": [
       "                                                action           bbl  ...  \\\n",
       "2      Violations were cited in the following area(s).  4.001380e+09  ...   \n",
       "3      Violations were cited in the following area(s).  1.001328e+09  ...   \n",
       "5      Violations were cited in the following area(s).  2.028760e+09  ...   \n",
       "6      Violations were cited in the following area(s).  3.009170e+09  ...   \n",
       "8      Violations were cited in the following area(s).  4.017758e+09  ...   \n",
       "...                                                ...           ...  ...   \n",
       "24980  Violations were cited in the following area(s).  2.054190e+09  ...   \n",
       "24987  Violations were cited in the following area(s).  4.096760e+09  ...   \n",
       "24988  Violations were cited in the following area(s).  1.005280e+09  ...   \n",
       "24989  Violations were cited in the following area(s).  3.019740e+09  ...   \n",
       "24991  Violations were cited in the following area(s).  1.005720e+09  ...   \n",
       "\n",
       "                                                                                                                                                                                                                                                                 violation_description  \\\n",
       "2                                                                                                                                                                                                                       Live roaches present in facility's food and/or non-food areas.   \n",
       "3                                                                                                                                                                                 Sanitized equipment or utensil, including in-use food dispensing utensil, improperly used or stored.   \n",
       "5                                                                                Food not cooled by an approved method whereby the internal product temperature is reduced from 140Âº F to 70Âº F or less within 2 hours, and from 70Âº F to 41Âº F or less within 4 additional hours.   \n",
       "6                                                                                                                                                                                                                       Live roaches present in facility's food and/or non-food areas.   \n",
       "8      Non-food contact surface improperly constructed. Unacceptable material used. Non-food contact surface or equipment improperly maintained and/or not properly sealed, raised, spaced or movable to allow accessibility for cleaning on all sides, above and underneath the unit.   \n",
       "...                                                                                                                                                                                                                                                                                ...   \n",
       "24980                                                                                                                                   Food contact surface not properly washed, rinsed and sanitized after each use and following any activity when contamination may have occurred.   \n",
       "24987                                               Plumbing not properly installed or maintained; anti-siphonage or backflow prevention device not provided where required; equipment or floor not properly drained; sewage disposal system in disrepair or not functioning properly.   \n",
       "24988                                                                                                                                                                                                                                      Hot food item not held at or above 140Âº F.   \n",
       "24989                                               Plumbing not properly installed or maintained; anti-siphonage or backflow prevention device not provided where required; equipment or floor not properly drained; sewage disposal system in disrepair or not functioning properly.   \n",
       "24991                                                                                                                                                                                                  Evidence of mice or live mice present in facility's food and/or non-food areas.   \n",
       "\n",
       "       zipcode  \n",
       "2      11377.0  \n",
       "3      10007.0  \n",
       "5      10453.0  \n",
       "6      11232.0  \n",
       "8      11368.0  \n",
       "...        ...  \n",
       "24980  10465.0  \n",
       "24987  11435.0  \n",
       "24988  10014.0  \n",
       "24989  11216.0  \n",
       "24991  10011.0  \n",
       "\n",
       "[11296 rows x 25 columns]"
      ]
     },
     "execution_count": 13,
     "metadata": {},
     "output_type": "execute_result"
    }
   ],
   "source": [
    "df[df.grade.isin(['A','B'])]"
   ]
  },
  {
   "cell_type": "code",
   "execution_count": 14,
   "metadata": {},
   "outputs": [
    {
     "name": "stdout",
     "output_type": "stream",
     "text": [
      "es_index_pattern: nyc-restaurants\n",
      "Index:\n",
      " es_index_field: _id\n",
      " is_source_field: False\n",
      "Mappings:\n",
      " capabilities:\n",
      "                               es_field_name  is_source   es_dtype es_date_format pd_dtype  is_searchable  is_aggregatable  is_scripted aggregatable_es_field_name\n",
      "action                                action       True    keyword           None   object           True             True        False                     action\n",
      "bbl                                      bbl       True     double           None  float64           True             True        False                        bbl\n",
      "bin                                      bin       True     double           None  float64           True             True        False                        bin\n",
      "boro                                    boro       True    keyword           None   object           True             True        False                       boro\n",
      "building                            building       True    keyword           None   object           True             True        False                   building\n",
      "camis                                  camis       True       long           None    int64           True             True        False                      camis\n",
      "census_tract                    census_tract       True     double           None  float64           True             True        False               census_tract\n",
      "community_board              community_board       True     double           None  float64           True             True        False            community_board\n",
      "council_district            council_district       True     double           None  float64           True             True        False           council_district\n",
      "critical_flag                  critical_flag       True    keyword           None   object           True             True        False              critical_flag\n",
      "cuisine_description      cuisine_description       True    keyword           None   object           True             True        False        cuisine_description\n",
      "dba                                      dba       True       text           None   object           True            False        False                       None\n",
      "grade                                  grade       True    keyword           None   object           True             True        False                      grade\n",
      "grade_date                        grade_date       True    keyword           None   object           True             True        False                 grade_date\n",
      "inspection_date              inspection_date       True    keyword           None   object           True             True        False            inspection_date\n",
      "inspection_type              inspection_type       True    keyword           None   object           True             True        False            inspection_type\n",
      "location                            location       True  geo_point           None   object           True             True        False                   location\n",
      "nta                                      nta       True    keyword           None   object           True             True        False                        nta\n",
      "phone                                  phone       True    keyword           None   object           True             True        False                      phone\n",
      "record_date                      record_date       True    keyword           None   object           True             True        False                record_date\n",
      "score                                  score       True     double           None  float64           True             True        False                      score\n",
      "street                                street       True    keyword           None   object           True             True        False                     street\n",
      "violation_code                violation_code       True    keyword           None   object           True             True        False             violation_code\n",
      "violation_description  violation_description       True    keyword           None   object           True             True        False      violation_description\n",
      "zipcode                              zipcode       True      short           None    int64           True             True        False                    zipcode\n",
      "Operations:\n",
      " tasks: [('boolean_filter': ('boolean_filter': {'terms': {'grade': ['A', 'B']}}))]\n",
      " size: None\n",
      " sort_params: None\n",
      " _source: ['action', 'bbl', 'bin', 'boro', 'building', 'camis', 'census_tract', 'community_board', 'council_district', 'critical_flag', 'cuisine_description', 'dba', 'grade', 'grade_date', 'inspection_date', 'inspection_type', 'location', 'nta', 'phone', 'record_date', 'score', 'street', 'violation_code', 'violation_description', 'zipcode']\n",
      " body: {'query': {'terms': {'grade': ['A', 'B']}}}\n",
      " post_processing: []\n",
      "\n"
     ]
    }
   ],
   "source": [
    "# Show how task graph looks like, running query, column names\n",
    "print(df[df.grade.isin(['A','B'])].es_info())"
   ]
  },
  {
   "cell_type": "code",
   "execution_count": 15,
   "metadata": {},
   "outputs": [
    {
     "data": {
      "text/html": [
       "<div>\n",
       "<style scoped>\n",
       "    .dataframe tbody tr th:only-of-type {\n",
       "        vertical-align: middle;\n",
       "    }\n",
       "\n",
       "    .dataframe tbody tr th {\n",
       "        vertical-align: top;\n",
       "    }\n",
       "\n",
       "    .dataframe thead th {\n",
       "        text-align: right;\n",
       "    }\n",
       "</style>\n",
       "<table border=\"1\" class=\"dataframe\">\n",
       "  <thead>\n",
       "    <tr style=\"text-align: right;\">\n",
       "      <th></th>\n",
       "      <th>score</th>\n",
       "    </tr>\n",
       "  </thead>\n",
       "  <tbody>\n",
       "    <tr>\n",
       "      <th>min</th>\n",
       "      <td>-1.000000</td>\n",
       "    </tr>\n",
       "    <tr>\n",
       "      <th>max</th>\n",
       "      <td>96.000000</td>\n",
       "    </tr>\n",
       "    <tr>\n",
       "      <th>std</th>\n",
       "      <td>8.078553</td>\n",
       "    </tr>\n",
       "    <tr>\n",
       "      <th>mean</th>\n",
       "      <td>12.929958</td>\n",
       "    </tr>\n",
       "    <tr>\n",
       "      <th>median</th>\n",
       "      <td>12.000000</td>\n",
       "    </tr>\n",
       "    <tr>\n",
       "      <th>var</th>\n",
       "      <td>65.254997</td>\n",
       "    </tr>\n",
       "  </tbody>\n",
       "</table>\n",
       "</div>"
      ],
      "text/plain": [
       "            score\n",
       "min     -1.000000\n",
       "max     96.000000\n",
       "std      8.078553\n",
       "mean    12.929958\n",
       "median  12.000000\n",
       "var     65.254997"
      ]
     },
     "execution_count": 15,
     "metadata": {},
     "output_type": "execute_result"
    }
   ],
   "source": [
    "df[['score']].agg(['min', 'max', 'std', 'mean', 'median','var'])"
   ]
  },
  {
   "cell_type": "code",
   "execution_count": 16,
   "metadata": {},
   "outputs": [
    {
     "data": {
      "image/png": "[encoded data removed]",
      "text/plain": [
       "<Figure size 720x720 with 1 Axes>"
      ]
     },
     "metadata": {
      "needs_background": "light"
     },
     "output_type": "display_data"
    }
   ],
   "source": [
    "import matplotlib.pyplot as plt\n",
    "\n",
    "df[['score']].hist(figsize=[10,10])\n",
    "plt.show()"
   ]
  },
  {
   "cell_type": "code",
   "execution_count": 17,
   "metadata": {},
   "outputs": [
    {
     "data": {
      "text/plain": [
       "2               40.74454427,-73.91538981\n",
       "3                40.71521417,-74.0112403\n",
       "5               40.84861337,-73.91801844\n",
       "6               40.65054499,-74.00463446\n",
       "8        40.752067700000005,-73.85946867\n",
       "                      ...               \n",
       "24987           40.70180325,-73.80862151\n",
       "24988           40.72913057,-74.00523166\n",
       "24989           40.68639383,-73.95452826\n",
       "24991              40.73306118,-73.99825\n",
       "24996           40.75370382,-73.98704594\n",
       "Name: location, Length: 12207, dtype: object"
      ]
     },
     "execution_count": 17,
     "metadata": {},
     "output_type": "execute_result"
    }
   ],
   "source": [
    "df.location"
   ]
  },
  {
   "cell_type": "code",
   "execution_count": 18,
   "metadata": {},
   "outputs": [
    {
     "data": {
      "text/html": [
       "<div>\n",
       "<style scoped>\n",
       "    .dataframe tbody tr th:only-of-type {\n",
       "        vertical-align: middle;\n",
       "    }\n",
       "\n",
       "    .dataframe tbody tr th {\n",
       "        vertical-align: top;\n",
       "    }\n",
       "\n",
       "    .dataframe thead th {\n",
       "        text-align: right;\n",
       "    }\n",
       "</style>\n",
       "<table border=\"1\" class=\"dataframe\">\n",
       "  <thead>\n",
       "    <tr style=\"text-align: right;\">\n",
       "      <th></th>\n",
       "      <th>action</th>\n",
       "      <th>bbl</th>\n",
       "      <th>...</th>\n",
       "      <th>violation_description</th>\n",
       "      <th>zipcode</th>\n",
       "    </tr>\n",
       "  </thead>\n",
       "  <tbody>\n",
       "    <tr>\n",
       "      <th>5914</th>\n",
       "      <td>Violations were cited in the following area(s).</td>\n",
       "      <td>3.019740e+09</td>\n",
       "      <td>...</td>\n",
       "      <td>Food contact surface not properly washed, rins...</td>\n",
       "      <td>11216.0</td>\n",
       "    </tr>\n",
       "    <tr>\n",
       "      <th>24989</th>\n",
       "      <td>Violations were cited in the following area(s).</td>\n",
       "      <td>3.019740e+09</td>\n",
       "      <td>...</td>\n",
       "      <td>Plumbing not properly installed or maintained;...</td>\n",
       "      <td>11216.0</td>\n",
       "    </tr>\n",
       "  </tbody>\n",
       "</table>\n",
       "</div>\n",
       "<p>2 rows × 25 columns</p>"
      ],
      "text/plain": [
       "                                                action           bbl  ...  \\\n",
       "5914   Violations were cited in the following area(s).  3.019740e+09  ...   \n",
       "24989  Violations were cited in the following area(s).  3.019740e+09  ...   \n",
       "\n",
       "                                                                                                                                                                                                                    violation_description  \\\n",
       "5914                                                                                       Food contact surface not properly washed, rinsed and sanitized after each use and following any activity when contamination may have occurred.   \n",
       "24989  Plumbing not properly installed or maintained; anti-siphonage or backflow prevention device not provided where required; equipment or floor not properly drained; sewage disposal system in disrepair or not functioning properly.   \n",
       "\n",
       "       zipcode  \n",
       "5914   11216.0  \n",
       "24989  11216.0  \n",
       "\n",
       "[2 rows x 25 columns]"
      ]
     },
     "execution_count": 18,
     "metadata": {},
     "output_type": "execute_result"
    }
   ],
   "source": [
    "df.es_query({\n",
    "    'geo_distance':{\n",
    "        'distance':'5m',\n",
    "        'location':{\n",
    "            'lat':40.68639383,\n",
    "            'lon':-73.95452826\n",
    "        }\n",
    "    }\n",
    "})"
   ]
  },
  {
   "cell_type": "code",
   "execution_count": 19,
   "metadata": {},
   "outputs": [
    {
     "data": {
      "text/html": [
       "<div>\n",
       "<style scoped>\n",
       "    .dataframe tbody tr th:only-of-type {\n",
       "        vertical-align: middle;\n",
       "    }\n",
       "\n",
       "    .dataframe tbody tr th {\n",
       "        vertical-align: top;\n",
       "    }\n",
       "\n",
       "    .dataframe thead th {\n",
       "        text-align: right;\n",
       "    }\n",
       "</style>\n",
       "<table border=\"1\" class=\"dataframe\">\n",
       "  <thead>\n",
       "    <tr style=\"text-align: right;\">\n",
       "      <th></th>\n",
       "      <th>action</th>\n",
       "      <th>bbl</th>\n",
       "      <th>...</th>\n",
       "      <th>violation_description</th>\n",
       "      <th>zipcode</th>\n",
       "    </tr>\n",
       "  </thead>\n",
       "  <tbody>\n",
       "    <tr>\n",
       "      <th>447</th>\n",
       "      <td>Violations were cited in the following area(s).</td>\n",
       "      <td>4.032550e+09</td>\n",
       "      <td>...</td>\n",
       "      <td>Proper sanitization not provided for utensil w...</td>\n",
       "      <td>11375.0</td>\n",
       "    </tr>\n",
       "    <tr>\n",
       "      <th>7991</th>\n",
       "      <td>Violations were cited in the following area(s).</td>\n",
       "      <td>1.018640e+09</td>\n",
       "      <td>...</td>\n",
       "      <td>Plumbing not properly installed or maintained;...</td>\n",
       "      <td>10025.0</td>\n",
       "    </tr>\n",
       "    <tr>\n",
       "      <th>8128</th>\n",
       "      <td>Violations were cited in the following area(s).</td>\n",
       "      <td>1.019280e+09</td>\n",
       "      <td>...</td>\n",
       "      <td>Non-food contact surface improperly constructe...</td>\n",
       "      <td>10027.0</td>\n",
       "    </tr>\n",
       "    <tr>\n",
       "      <th>9372</th>\n",
       "      <td>Violations were cited in the following area(s).</td>\n",
       "      <td>1.000020e+09</td>\n",
       "      <td>...</td>\n",
       "      <td>Facility not vermin proof. Harborage or condit...</td>\n",
       "      <td>10004.0</td>\n",
       "    </tr>\n",
       "    <tr>\n",
       "      <th>6788</th>\n",
       "      <td>Violations were cited in the following area(s).</td>\n",
       "      <td>3.051410e+09</td>\n",
       "      <td>...</td>\n",
       "      <td>Evidence of rats or live rats present in facil...</td>\n",
       "      <td>11218.0</td>\n",
       "    </tr>\n",
       "    <tr>\n",
       "      <th>...</th>\n",
       "      <td>...</td>\n",
       "      <td>...</td>\n",
       "      <td>...</td>\n",
       "      <td>...</td>\n",
       "      <td>...</td>\n",
       "    </tr>\n",
       "    <tr>\n",
       "      <th>21028</th>\n",
       "      <td>Violations were cited in the following area(s).</td>\n",
       "      <td>1.000918e+09</td>\n",
       "      <td>...</td>\n",
       "      <td>Food not protected from potential source of co...</td>\n",
       "      <td>10038.0</td>\n",
       "    </tr>\n",
       "    <tr>\n",
       "      <th>22487</th>\n",
       "      <td>Violations were cited in the following area(s).</td>\n",
       "      <td>4.000520e+09</td>\n",
       "      <td>...</td>\n",
       "      <td>Food contact surface not properly washed, rins...</td>\n",
       "      <td>11101.0</td>\n",
       "    </tr>\n",
       "    <tr>\n",
       "      <th>23380</th>\n",
       "      <td>Violations were cited in the following area(s).</td>\n",
       "      <td>4.068240e+09</td>\n",
       "      <td>...</td>\n",
       "      <td>Non-food contact surface improperly constructe...</td>\n",
       "      <td>11366.0</td>\n",
       "    </tr>\n",
       "    <tr>\n",
       "      <th>23878</th>\n",
       "      <td>Violations were cited in the following area(s).</td>\n",
       "      <td>4.032550e+09</td>\n",
       "      <td>...</td>\n",
       "      <td>Food contact surface not properly washed, rins...</td>\n",
       "      <td>11375.0</td>\n",
       "    </tr>\n",
       "    <tr>\n",
       "      <th>24306</th>\n",
       "      <td>Violations were cited in the following area(s).</td>\n",
       "      <td>3.060660e+09</td>\n",
       "      <td>...</td>\n",
       "      <td>Proper sanitization not provided for utensil w...</td>\n",
       "      <td>11209.0</td>\n",
       "    </tr>\n",
       "  </tbody>\n",
       "</table>\n",
       "</div>\n",
       "<p>32 rows × 25 columns</p>"
      ],
      "text/plain": [
       "                                                action           bbl  ...  \\\n",
       "447    Violations were cited in the following area(s).  4.032550e+09  ...   \n",
       "7991   Violations were cited in the following area(s).  1.018640e+09  ...   \n",
       "8128   Violations were cited in the following area(s).  1.019280e+09  ...   \n",
       "9372   Violations were cited in the following area(s).  1.000020e+09  ...   \n",
       "6788   Violations were cited in the following area(s).  3.051410e+09  ...   \n",
       "...                                                ...           ...  ...   \n",
       "21028  Violations were cited in the following area(s).  1.000918e+09  ...   \n",
       "22487  Violations were cited in the following area(s).  4.000520e+09  ...   \n",
       "23380  Violations were cited in the following area(s).  4.068240e+09  ...   \n",
       "23878  Violations were cited in the following area(s).  4.032550e+09  ...   \n",
       "24306  Violations were cited in the following area(s).  3.060660e+09  ...   \n",
       "\n",
       "                                                                                                                                                                                                                                                                 violation_description  \\\n",
       "447                                                                                                                                                                                                               Proper sanitization not provided for utensil ware washing operation.   \n",
       "7991                                                Plumbing not properly installed or maintained; anti-siphonage or backflow prevention device not provided where required; equipment or floor not properly drained; sewage disposal system in disrepair or not functioning properly.   \n",
       "8128   Non-food contact surface improperly constructed. Unacceptable material used. Non-food contact surface or equipment improperly maintained and/or not properly sealed, raised, spaced or movable to allow accessibility for cleaning on all sides, above and underneath the unit.   \n",
       "9372                                                                                                                                                Facility not vermin proof. Harborage or conditions conducive to attracting vermin to the premises and/or allowing vermin to exist.   \n",
       "6788                                                                                                                                                                                                   Evidence of rats or live rats present in facility's food and/or non-food areas.   \n",
       "...                                                                                                                                                                                                                                                                                ...   \n",
       "21028                                                                                                                                                       Food not protected from potential source of contamination during storage, preparation, transportation, display or service.   \n",
       "22487                                                                                                                                   Food contact surface not properly washed, rinsed and sanitized after each use and following any activity when contamination may have occurred.   \n",
       "23380  Non-food contact surface improperly constructed. Unacceptable material used. Non-food contact surface or equipment improperly maintained and/or not properly sealed, raised, spaced or movable to allow accessibility for cleaning on all sides, above and underneath the unit.   \n",
       "23878                                                                                                                                   Food contact surface not properly washed, rinsed and sanitized after each use and following any activity when contamination may have occurred.   \n",
       "24306                                                                                                                                                                                                             Proper sanitization not provided for utensil ware washing operation.   \n",
       "\n",
       "       zipcode  \n",
       "447    11375.0  \n",
       "7991   10025.0  \n",
       "8128   10027.0  \n",
       "9372   10004.0  \n",
       "6788   11218.0  \n",
       "...        ...  \n",
       "21028  10038.0  \n",
       "22487  11101.0  \n",
       "23380  11366.0  \n",
       "23878  11375.0  \n",
       "24306  11209.0  \n",
       "\n",
       "[32 rows x 25 columns]"
      ]
     },
     "execution_count": 19,
     "metadata": {},
     "output_type": "execute_result"
    }
   ],
   "source": [
    "df.es_query({'match':{'dba':'red'}})"
   ]
  },
  {
   "cell_type": "code",
   "execution_count": 20,
   "metadata": {},
   "outputs": [
    {
     "data": {
      "text/plain": [
       "447                RED PIPE CAFE\n",
       "7991             RED HOT HOT POT\n",
       "8128                    RED STAR\n",
       "9372     AUNTIE ANNE'S/RED MANGO\n",
       "6788                    RED MIST\n",
       "                  ...           \n",
       "21028                  RED MANGO\n",
       "22487                   RED CAFE\n",
       "23380                  RED MANGO\n",
       "23878              RED PIPE CAFE\n",
       "24306           RED WHITE & BREW\n",
       "Name: dba, Length: 32, dtype: object"
      ]
     },
     "execution_count": 20,
     "metadata": {},
     "output_type": "execute_result"
    }
   ],
   "source": [
    "df.es_query({'match':{'dba':'red'}}).dba"
   ]
  },
  {
   "cell_type": "code",
   "execution_count": 21,
   "metadata": {},
   "outputs": [
    {
     "data": {
      "text/plain": [
       "9372     AUNTIE ANNE'S/RED MANGO\n",
       "6651         MANGO MANGO DESSERT\n",
       "7039                   RED MANGO\n",
       "9033             RED MANGO #0484\n",
       "17996        MANGO MANGO DESSERT\n",
       "21028                  RED MANGO\n",
       "22758      MANGO CREPES AND MORE\n",
       "23380                  RED MANGO\n",
       "Name: dba, dtype: object"
      ]
     },
     "execution_count": 21,
     "metadata": {},
     "output_type": "execute_result"
    }
   ],
   "source": [
    "df.es_query({'match':{'dba':'mango'}}).dba"
   ]
  },
  {
   "cell_type": "code",
   "execution_count": 22,
   "metadata": {},
   "outputs": [
    {
     "name": "stdout",
     "output_type": "stream",
     "text": [
      "<class 'pandas.core.frame.DataFrame'>\n",
      "Index: 100 entries, 10016 to 9791\n",
      "Data columns (total 25 columns):\n",
      " #   Column                 Non-Null Count  Dtype  \n",
      "---  ------                 --------------  -----  \n",
      " 0   action                 100 non-null    object \n",
      " 1   bbl                    100 non-null    float64\n",
      " 2   bin                    100 non-null    float64\n",
      " 3   boro                   100 non-null    object \n",
      " 4   building               100 non-null    object \n",
      " 5   camis                  100 non-null    int64  \n",
      " 6   census_tract           100 non-null    float64\n",
      " 7   community_board        100 non-null    float64\n",
      " 8   council_district       100 non-null    float64\n",
      " 9   critical_flag          100 non-null    object \n",
      " 10  cuisine_description    100 non-null    object \n",
      " 11  dba                    100 non-null    object \n",
      " 12  grade                  100 non-null    object \n",
      " 13  grade_date             100 non-null    object \n",
      " 14  inspection_date        100 non-null    object \n",
      " 15  inspection_type        100 non-null    object \n",
      " 16  location               100 non-null    object \n",
      " 17  nta                    100 non-null    object \n",
      " 18  phone                  100 non-null    object \n",
      " 19  record_date            100 non-null    object \n",
      " 20  score                  100 non-null    float64\n",
      " 21  street                 100 non-null    object \n",
      " 22  violation_code         100 non-null    object \n",
      " 23  violation_description  100 non-null    object \n",
      " 24  zipcode                100 non-null    float64\n",
      "dtypes: float64(7), int64(1), object(17)\n",
      "memory usage: 20.3+ KB\n"
     ]
    }
   ],
   "source": [
    "sample_df = df[df.grade == 'A'].sample(100).to_pandas()\n",
    "sample_df.info()"
   ]
  },
  {
   "cell_type": "code",
   "execution_count": 23,
   "metadata": {},
   "outputs": [
    {
     "data": {
      "text/plain": [
       "pandas.core.frame.DataFrame"
      ]
     },
     "execution_count": 23,
     "metadata": {},
     "output_type": "execute_result"
    }
   ],
   "source": [
    "type(sample_df)"
   ]
  },
  {
   "cell_type": "markdown",
   "metadata": {},
   "source": [
    "# Machine Learning"
   ]
  },
  {
   "cell_type": "code",
   "execution_count": 24,
   "metadata": {},
   "outputs": [
    {
     "name": "stdout",
     "output_type": "stream",
     "text": [
      "Feature Name:  ['alcohol', 'malic_acid', 'ash', 'alcalinity_of_ash', 'magnesium', 'total_phenols', 'flavanoids', 'nonflavanoid_phenols', 'proanthocyanins', 'color_intensity', 'hue', 'od280/od315_of_diluted_wines', 'proline']\n",
      "Data Example:  [1.423e+01 1.710e+00 2.430e+00 1.560e+01 1.270e+02 2.800e+00 3.060e+00\n",
      " 2.800e-01 2.290e+00 5.640e+00 1.040e+00 3.920e+00 1.065e+03]\n",
      "[0 1 2]\n",
      "[0 1 2]\n"
     ]
    }
   ],
   "source": [
    "from sklearn import datasets\n",
    "from sklearn.tree import DecisionTreeClassifier\n",
    "\n",
    "df = datasets.load_wine()\n",
    "print(\"Feature Name: \", df.feature_names)\n",
    "print(\"Data Example: \", df.data[0])\n",
    "\n",
    "data = [x for i,x in enumerate(df.data) if i not in [10,80,140]]\n",
    "target = [x for i,x in enumerate(df.target) if i not in [10,80,140]]\n",
    "\n",
    "sk_classifier = DecisionTreeClassifier()\n",
    "sk_classifier.fit(data, target)\n",
    "\n",
    "print(sk_classifier.predict(df.data[[10,80,140]]))\n",
    "print(df.target[[10,80,140]])"
   ]
  },
  {
   "cell_type": "code",
   "execution_count": 25,
   "metadata": {},
   "outputs": [
    {
     "ename": "AuthorizationException",
     "evalue": "AuthorizationException(403, 'security_exception', 'current license is non-compliant for [ml]')",
     "output_type": "error",
     "traceback": [
      "\u001b[1;31m---------------------------------------------------------------------------\u001b[0m",
      "\u001b[1;31mAuthorizationException\u001b[0m                    Traceback (most recent call last)",
      "\u001b[1;32m<ipython-input-25-79f3a423c5a2>\u001b[0m in \u001b[0;36m<module>\u001b[1;34m\u001b[0m\n\u001b[0;32m      5\u001b[0m                                \u001b[0mmodel_id\u001b[0m\u001b[1;33m=\u001b[0m\u001b[1;34m'wine-classifier'\u001b[0m\u001b[1;33m,\u001b[0m\u001b[1;33m\u001b[0m\u001b[1;33m\u001b[0m\u001b[0m\n\u001b[0;32m      6\u001b[0m                                \u001b[0mmodel\u001b[0m\u001b[1;33m=\u001b[0m\u001b[0msk_classifier\u001b[0m\u001b[1;33m,\u001b[0m\u001b[1;33m\u001b[0m\u001b[1;33m\u001b[0m\u001b[0m\n\u001b[1;32m----> 7\u001b[1;33m                                feature_names=df.feature_names)\n\u001b[0m\u001b[0;32m      8\u001b[0m \u001b[1;33m\u001b[0m\u001b[0m\n\u001b[0;32m      9\u001b[0m \u001b[1;32mimport\u001b[0m \u001b[0mlogging\u001b[0m\u001b[1;33m\u001b[0m\u001b[1;33m\u001b[0m\u001b[0m\n",
      "\u001b[1;32mc:\\users\\akash.rawat\\appdata\\local\\programs\\python\\python37\\lib\\site-packages\\eland\\ml\\imported_ml_model.py\u001b[0m in \u001b[0;36m__init__\u001b[1;34m(self, es_client, model_id, model, feature_names, classification_labels, classification_weights, overwrite)\u001b[0m\n\u001b[0;32m    135\u001b[0m \u001b[1;33m\u001b[0m\u001b[0m\n\u001b[0;32m    136\u001b[0m         self._client.ml.put_trained_model(\n\u001b[1;32m--> 137\u001b[1;33m             \u001b[0mmodel_id\u001b[0m\u001b[1;33m=\u001b[0m\u001b[0mself\u001b[0m\u001b[1;33m.\u001b[0m\u001b[0m_model_id\u001b[0m\u001b[1;33m,\u001b[0m \u001b[0mbody\u001b[0m\u001b[1;33m=\u001b[0m\u001b[0mbody\u001b[0m\u001b[1;33m,\u001b[0m\u001b[1;33m\u001b[0m\u001b[1;33m\u001b[0m\u001b[0m\n\u001b[0m\u001b[0;32m    138\u001b[0m         )\n\u001b[0;32m    139\u001b[0m \u001b[1;33m\u001b[0m\u001b[0m\n",
      "\u001b[1;32mc:\\users\\akash.rawat\\appdata\\local\\programs\\python\\python37\\lib\\site-packages\\elasticsearch\\client\\utils.py\u001b[0m in \u001b[0;36m_wrapped\u001b[1;34m(*args, **kwargs)\u001b[0m\n\u001b[0;32m    137\u001b[0m                 \u001b[1;32mif\u001b[0m \u001b[0mp\u001b[0m \u001b[1;32min\u001b[0m \u001b[0mkwargs\u001b[0m\u001b[1;33m:\u001b[0m\u001b[1;33m\u001b[0m\u001b[1;33m\u001b[0m\u001b[0m\n\u001b[0;32m    138\u001b[0m                     \u001b[0mparams\u001b[0m\u001b[1;33m[\u001b[0m\u001b[0mp\u001b[0m\u001b[1;33m]\u001b[0m \u001b[1;33m=\u001b[0m \u001b[0mkwargs\u001b[0m\u001b[1;33m.\u001b[0m\u001b[0mpop\u001b[0m\u001b[1;33m(\u001b[0m\u001b[0mp\u001b[0m\u001b[1;33m)\u001b[0m\u001b[1;33m\u001b[0m\u001b[1;33m\u001b[0m\u001b[0m\n\u001b[1;32m--> 139\u001b[1;33m             \u001b[1;32mreturn\u001b[0m \u001b[0mfunc\u001b[0m\u001b[1;33m(\u001b[0m\u001b[1;33m*\u001b[0m\u001b[0margs\u001b[0m\u001b[1;33m,\u001b[0m \u001b[0mparams\u001b[0m\u001b[1;33m=\u001b[0m\u001b[0mparams\u001b[0m\u001b[1;33m,\u001b[0m \u001b[0mheaders\u001b[0m\u001b[1;33m=\u001b[0m\u001b[0mheaders\u001b[0m\u001b[1;33m,\u001b[0m \u001b[1;33m**\u001b[0m\u001b[0mkwargs\u001b[0m\u001b[1;33m)\u001b[0m\u001b[1;33m\u001b[0m\u001b[1;33m\u001b[0m\u001b[0m\n\u001b[0m\u001b[0;32m    140\u001b[0m \u001b[1;33m\u001b[0m\u001b[0m\n\u001b[0;32m    141\u001b[0m         \u001b[1;32mreturn\u001b[0m \u001b[0m_wrapped\u001b[0m\u001b[1;33m\u001b[0m\u001b[1;33m\u001b[0m\u001b[0m\n",
      "\u001b[1;32mc:\\users\\akash.rawat\\appdata\\local\\programs\\python\\python37\\lib\\site-packages\\elasticsearch\\client\\ml.py\u001b[0m in \u001b[0;36mput_trained_model\u001b[1;34m(self, model_id, body, params, headers)\u001b[0m\n\u001b[0;32m   1315\u001b[0m             \u001b[0mparams\u001b[0m\u001b[1;33m=\u001b[0m\u001b[0mparams\u001b[0m\u001b[1;33m,\u001b[0m\u001b[1;33m\u001b[0m\u001b[1;33m\u001b[0m\u001b[0m\n\u001b[0;32m   1316\u001b[0m             \u001b[0mheaders\u001b[0m\u001b[1;33m=\u001b[0m\u001b[0mheaders\u001b[0m\u001b[1;33m,\u001b[0m\u001b[1;33m\u001b[0m\u001b[1;33m\u001b[0m\u001b[0m\n\u001b[1;32m-> 1317\u001b[1;33m             \u001b[0mbody\u001b[0m\u001b[1;33m=\u001b[0m\u001b[0mbody\u001b[0m\u001b[1;33m,\u001b[0m\u001b[1;33m\u001b[0m\u001b[1;33m\u001b[0m\u001b[0m\n\u001b[0m\u001b[0;32m   1318\u001b[0m         )\n\u001b[0;32m   1319\u001b[0m \u001b[1;33m\u001b[0m\u001b[0m\n",
      "\u001b[1;32mc:\\users\\akash.rawat\\appdata\\local\\programs\\python\\python37\\lib\\site-packages\\elasticsearch\\transport.py\u001b[0m in \u001b[0;36mperform_request\u001b[1;34m(self, method, url, headers, params, body)\u001b[0m\n\u001b[0;32m    350\u001b[0m                     \u001b[0mheaders\u001b[0m\u001b[1;33m=\u001b[0m\u001b[0mheaders\u001b[0m\u001b[1;33m,\u001b[0m\u001b[1;33m\u001b[0m\u001b[1;33m\u001b[0m\u001b[0m\n\u001b[0;32m    351\u001b[0m                     \u001b[0mignore\u001b[0m\u001b[1;33m=\u001b[0m\u001b[0mignore\u001b[0m\u001b[1;33m,\u001b[0m\u001b[1;33m\u001b[0m\u001b[1;33m\u001b[0m\u001b[0m\n\u001b[1;32m--> 352\u001b[1;33m                     \u001b[0mtimeout\u001b[0m\u001b[1;33m=\u001b[0m\u001b[0mtimeout\u001b[0m\u001b[1;33m,\u001b[0m\u001b[1;33m\u001b[0m\u001b[1;33m\u001b[0m\u001b[0m\n\u001b[0m\u001b[0;32m    353\u001b[0m                 )\n\u001b[0;32m    354\u001b[0m \u001b[1;33m\u001b[0m\u001b[0m\n",
      "\u001b[1;32mc:\\users\\akash.rawat\\appdata\\local\\programs\\python\\python37\\lib\\site-packages\\elasticsearch\\connection\\http_urllib3.py\u001b[0m in \u001b[0;36mperform_request\u001b[1;34m(self, method, url, params, body, timeout, ignore, headers)\u001b[0m\n\u001b[0;32m    254\u001b[0m                 \u001b[0mmethod\u001b[0m\u001b[1;33m,\u001b[0m \u001b[0mfull_url\u001b[0m\u001b[1;33m,\u001b[0m \u001b[0murl\u001b[0m\u001b[1;33m,\u001b[0m \u001b[0morig_body\u001b[0m\u001b[1;33m,\u001b[0m \u001b[0mduration\u001b[0m\u001b[1;33m,\u001b[0m \u001b[0mresponse\u001b[0m\u001b[1;33m.\u001b[0m\u001b[0mstatus\u001b[0m\u001b[1;33m,\u001b[0m \u001b[0mraw_data\u001b[0m\u001b[1;33m\u001b[0m\u001b[1;33m\u001b[0m\u001b[0m\n\u001b[0;32m    255\u001b[0m             )\n\u001b[1;32m--> 256\u001b[1;33m             \u001b[0mself\u001b[0m\u001b[1;33m.\u001b[0m\u001b[0m_raise_error\u001b[0m\u001b[1;33m(\u001b[0m\u001b[0mresponse\u001b[0m\u001b[1;33m.\u001b[0m\u001b[0mstatus\u001b[0m\u001b[1;33m,\u001b[0m \u001b[0mraw_data\u001b[0m\u001b[1;33m)\u001b[0m\u001b[1;33m\u001b[0m\u001b[1;33m\u001b[0m\u001b[0m\n\u001b[0m\u001b[0;32m    257\u001b[0m \u001b[1;33m\u001b[0m\u001b[0m\n\u001b[0;32m    258\u001b[0m         self.log_request_success(\n",
      "\u001b[1;32mc:\\users\\akash.rawat\\appdata\\local\\programs\\python\\python37\\lib\\site-packages\\elasticsearch\\connection\\base.py\u001b[0m in \u001b[0;36m_raise_error\u001b[1;34m(self, status_code, raw_data)\u001b[0m\n\u001b[0;32m    286\u001b[0m \u001b[1;33m\u001b[0m\u001b[0m\n\u001b[0;32m    287\u001b[0m         raise HTTP_EXCEPTIONS.get(status_code, TransportError)(\n\u001b[1;32m--> 288\u001b[1;33m             \u001b[0mstatus_code\u001b[0m\u001b[1;33m,\u001b[0m \u001b[0merror_message\u001b[0m\u001b[1;33m,\u001b[0m \u001b[0madditional_info\u001b[0m\u001b[1;33m\u001b[0m\u001b[1;33m\u001b[0m\u001b[0m\n\u001b[0m\u001b[0;32m    289\u001b[0m         )\n\u001b[0;32m    290\u001b[0m \u001b[1;33m\u001b[0m\u001b[0m\n",
      "\u001b[1;31mAuthorizationException\u001b[0m: AuthorizationException(403, 'security_exception', 'current license is non-compliant for [ml]')"
     ]
    }
   ],
   "source": [
    "# pulls the model and serializes the vvalues inside the model and convert it into elasticsearch query\n",
    "from eland.ml import ImportedMLModel\n",
    "\n",
    "ed_classifier = ImportedMLModel(es_client=es,\n",
    "                               model_id='wine-classifier',\n",
    "                               model=sk_classifier,\n",
    "                               feature_names=df.feature_names)\n",
    "\n",
    "import logging\n",
    "logger = logging.getLogger('elasticsearch')\n",
    "logger.setLevel(logging.DEBUG)\n",
    "logger.addHandler(logging.StreamHandler())\n",
    "\n",
    "print(ed_classifier.predict(df.data[[10,80,140]].tolist()))\n",
    "print(df.target([[10,80,140]]))\n",
    "\n",
    "logging_handlers=[]"
   ]
  },
  {
   "cell_type": "code",
   "execution_count": null,
   "metadata": {},
   "outputs": [],
   "source": []
  }
 ],
 "metadata": {
  "kernelspec": {
   "display_name": "Python 3",
   "language": "python",
   "name": "python3"
  },
  "language_info": {
   "codemirror_mode": {
    "name": "ipython",
    "version": 3
   },
   "file_extension": ".py",
   "mimetype": "text/x-python",
   "name": "python",
   "nbconvert_exporter": "python",
   "pygments_lexer": "ipython3",
   "version": "3.7.6"
  }
 },
 "nbformat": 4,
 "nbformat_minor": 4
}
